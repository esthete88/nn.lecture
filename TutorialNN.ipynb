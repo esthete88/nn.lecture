{
 "cells": [
  {
   "cell_type": "markdown",
   "metadata": {
    "colab_type": "text",
    "id": "cWKG6sFdsWH9"
   },
   "source": [
    "# Нейронные сети"
   ]
  },
  {
   "cell_type": "markdown",
   "metadata": {
    "colab_type": "text",
    "id": "qxNjNjDMs4E0"
   },
   "source": [
    "В этом уроке мы познакомимся с основами глубинного обучения на примере построения различных моделей для классификации изображений одежды по 10 различным классам."
   ]
  },
  {
   "cell_type": "markdown",
   "metadata": {
    "colab_type": "text",
    "id": "A-SzdGboscrR"
   },
   "source": [
    "Сначала импортируем нужные нам библиотеки"
   ]
  },
  {
   "cell_type": "code",
   "execution_count": null,
   "metadata": {
    "colab": {},
    "colab_type": "code",
    "id": "zDNWGMGnXTEx"
   },
   "outputs": [],
   "source": [
    "import matplotlib.pyplot as plt\n",
    "import numpy as np\n",
    "\n",
    "import tensorflow as tf\n",
    "import tensorflow.keras as keras\n",
    "\n",
    "from tensorflow.keras.datasets import fashion_mnist\n",
    "\n",
    "%matplotlib inline"
   ]
  },
  {
   "cell_type": "markdown",
   "metadata": {
    "colab_type": "text",
    "id": "0kmSW7T8siO1"
   },
   "source": [
    "Теперь загрузим данные. Заботливые ребята из гугла заранее любезно разделили датасет на `train` и `test` и обернули его в функцию библиотеки `tensorflow`, поэтому нам осталось лишь написать 1 строчку"
   ]
  },
  {
   "cell_type": "code",
   "execution_count": null,
   "metadata": {
    "colab": {
     "base_uri": "https://localhost:8080/",
     "height": 150
    },
    "colab_type": "code",
    "id": "HWqLkUZfXiaq",
    "outputId": "c3058b2d-e200-4389-af5d-8410ed47b22b"
   },
   "outputs": [],
   "source": [
    "(train_images, train_labels), (test_images, test_labels) = fashion_mnist.load_data()\n",
    "\n",
    "train_images = train_images / 255.0\n",
    "test_images = test_images / 255.0"
   ]
  },
  {
   "cell_type": "markdown",
   "metadata": {
    "colab_type": "text",
    "id": "_kysdQ6ZsqTG"
   },
   "source": [
    "Всегда полезно понимать, с какими данными мы будем работать, так что давайте взглянем на них поближе."
   ]
  },
  {
   "cell_type": "markdown",
   "metadata": {
    "colab_type": "text",
    "id": "nwVU4nhBvU5D"
   },
   "source": [
    "Размер обучающего датасета:"
   ]
  },
  {
   "cell_type": "code",
   "execution_count": null,
   "metadata": {
    "colab": {
     "base_uri": "https://localhost:8080/",
     "height": 33
    },
    "colab_type": "code",
    "id": "zbTNJAUKvZ9r",
    "outputId": "7891f5fa-ae54-459e-d6b4-1b2524f40011"
   },
   "outputs": [],
   "source": [
    "train_images.shape"
   ]
  },
  {
   "cell_type": "markdown",
   "metadata": {
    "colab_type": "text",
    "id": "nwF4-egRtpB4"
   },
   "source": [
    "Размер тестового датасета:"
   ]
  },
  {
   "cell_type": "code",
   "execution_count": null,
   "metadata": {
    "colab": {
     "base_uri": "https://localhost:8080/",
     "height": 33
    },
    "colab_type": "code",
    "id": "RxE5Q4Yvvk9d",
    "outputId": "21c53536-7d05-4c36-8b06-98efa0227b25"
   },
   "outputs": [],
   "source": [
    "test_images.shape"
   ]
  },
  {
   "cell_type": "markdown",
   "metadata": {
    "colab_type": "text",
    "id": "9YPjZIGQv0Ja"
   },
   "source": [
    "Посмотрим, какие у нас есть метки классов"
   ]
  },
  {
   "cell_type": "code",
   "execution_count": null,
   "metadata": {
    "colab": {
     "base_uri": "https://localhost:8080/",
     "height": 33
    },
    "colab_type": "code",
    "id": "1-bBPluEwAZK",
    "outputId": "64887c3d-a48b-468e-ad52-41a0ca735a5c"
   },
   "outputs": [],
   "source": [
    "np.unique(train_labels)"
   ]
  },
  {
   "cell_type": "markdown",
   "metadata": {
    "colab_type": "text",
    "id": "sPKqhV3drWnr"
   },
   "source": [
    "Теперь давайте взглянем на несколько изображений"
   ]
  },
  {
   "cell_type": "code",
   "execution_count": null,
   "metadata": {
    "colab": {
     "base_uri": "https://localhost:8080/",
     "height": 369
    },
    "colab_type": "code",
    "id": "sWc3IQEIXsJ1",
    "outputId": "b8c08c7b-7591-499d-94e6-444d37dc0a4f"
   },
   "outputs": [],
   "source": [
    "class_names = ['T-shirt/top', 'Trouser', 'Pullover', 'Dress', 'Coat', 'Sandal', 'Shirt', 'Sneaker', 'Bag', 'Ankle boot']\n",
    "\n",
    "n_rows = 4\n",
    "n_cols = 10\n",
    "\n",
    "fig, ax = plt.subplots(n_rows, n_cols, figsize=(14, 6))\n",
    "for i in range(n_rows):\n",
    "    for j in range(n_cols):\n",
    "        ax[i][j].set_xticks([])\n",
    "        ax[i][j].set_yticks([])\n",
    "        ax[i][j].imshow(train_images[i * n_rows + j], cmap=plt.cm.binary)\n",
    "        ax[i][j].set_xlabel(class_names[train_labels[i * n_rows + j]])"
   ]
  },
  {
   "cell_type": "markdown",
   "metadata": {
    "colab_type": "text",
    "id": "KuIx8XOmyJCf"
   },
   "source": [
    "Давайте, наконец, что-нибудь пообучаем. Для начала посмотрим, как себя покажет обычный линейный классификатор. \n",
    "\n",
    "Простейшие модели в `keras` реализуются с помощью класса `Sequential`. Класс есть просто обертка над списком слоев, через которые последовательно прокидывается инпут.\n",
    "\n",
    "Сначала необходимо преобразовать двумерное изображение в одномерный массив с помощью слоя `Flatten`.\n",
    "\n",
    "Затем добавим линейный слой с функцией активации `Softmax`."
   ]
  },
  {
   "cell_type": "code",
   "execution_count": null,
   "metadata": {
    "colab": {
     "base_uri": "https://localhost:8080/",
     "height": 789
    },
    "colab_type": "code",
    "id": "6xCl3CudXur1",
    "outputId": "3b6c7916-5d87-4005-ac05-5a289b79105d"
   },
   "outputs": [],
   "source": [
    "model = keras.Sequential([\n",
    "    keras.layers.Flatten(),\n",
    "    keras.layers.Dense(10, activation=tf.nn.softmax)\n",
    "])\n",
    "\n",
    "model.compile(optimizer='adam',\n",
    "              loss='sparse_categorical_crossentropy',\n",
    "              metrics=['accuracy'])\n",
    "\n",
    "epochs = 20\n",
    "batch_size = 500\n",
    "model.fit(train_images, train_labels, \n",
    "          epochs=epochs, batch_size=batch_size,\n",
    "          validation_data=(test_images, test_labels))"
   ]
  },
  {
   "cell_type": "markdown",
   "metadata": {
    "colab_type": "text",
    "id": "JIfYja8e0sZO"
   },
   "source": [
    "Довольно неплохой результат для классификации на 10 классов (`accuracy` рандомного классификатора была бы всего 10%). Но можно сделать лучше.\n",
    "\n",
    "![layers](https://pbs.twimg.com/media/CYggEo-VAAACg_n.png:small)\n",
    "\n",
    "Теперь время применять магию дип лернинга! Напишите модель, в которой будет хотя бы 3 линейных слоя. Во внутренних слоях используйте функцию активацию `ReLU` (`tf.nn.relu`). Выходной слой должен иметь 10 нейронов и функцию активации `softmax` (`tf.nn.softmax`). Будем считать, что модель должна набрать хотя бы 87% на тестовой выборке"
   ]
  },
  {
   "cell_type": "code",
   "execution_count": null,
   "metadata": {
    "colab": {
     "base_uri": "https://localhost:8080/",
     "height": 719
    },
    "colab_type": "code",
    "id": "SsO7E7Ev1GK5",
    "outputId": "9af41ffd-23fe-4771-9c0f-f3be5337024e"
   },
   "outputs": [],
   "source": [
    "model = keras.Sequential([\n",
    "    <YOUR CODE HERE>\n",
    "])\n",
    "\n",
    "model.compile(optimizer='adam',\n",
    "              loss='sparse_categorical_crossentropy',\n",
    "              metrics=['accuracy'])\n",
    "\n",
    "epochs = 20\n",
    "batch_size = 500\n",
    "model.fit(train_images, train_labels, \n",
    "          epochs=epochs, batch_size=batch_size,\n",
    "          validation_data=(test_images, test_labels))"
   ]
  },
  {
   "cell_type": "code",
   "execution_count": null,
   "metadata": {
    "colab": {},
    "colab_type": "code",
    "id": "iwDR-8oZ13tI"
   },
   "outputs": [],
   "source": [
    "def plot_image(i, predictions_array, true_label, img):\n",
    "    predictions_array, true_label, img = predictions_array[i], true_label[i], img[i]\n",
    "    plt.grid(False)\n",
    "    plt.xticks([])\n",
    "    plt.yticks([])\n",
    "\n",
    "    plt.imshow(img, cmap=plt.cm.binary)\n",
    "\n",
    "    predicted_label = np.argmax(predictions_array)\n",
    "    if predicted_label == true_label:\n",
    "        color = 'blue'\n",
    "    else:\n",
    "        color = 'red'\n",
    "\n",
    "    plt.xlabel(\"{} {:2.0f}% ({})\".format(class_names[predicted_label],\n",
    "                                  100 * np.max(predictions_array),\n",
    "                                  class_names[true_label]),\n",
    "                                  color=color)\n",
    "\n",
    "    \n",
    "def plot_value_array(i, predictions_array, true_label):\n",
    "    predictions_array, true_label = predictions_array[i], true_label[i]\n",
    "    plt.grid(False)\n",
    "    plt.xticks([])\n",
    "    plt.yticks([])\n",
    "    thisplot = plt.bar(range(10), predictions_array, color=\"#777777\")\n",
    "    plt.ylim([0, 1]) \n",
    "    predicted_label = np.argmax(predictions_array)\n",
    "\n",
    "    thisplot[predicted_label].set_color('red')\n",
    "    thisplot[true_label].set_color('blue')"
   ]
  },
  {
   "cell_type": "code",
   "execution_count": null,
   "metadata": {
    "colab": {
     "base_uri": "https://localhost:8080/",
     "height": 592
    },
    "colab_type": "code",
    "id": "aXhYqEEs-3II",
    "outputId": "0ed5a3fc-4036-4d47-cee4-09cd3e0279ec"
   },
   "outputs": [],
   "source": [
    "predictions = model.predict(test_images)\n",
    "\n",
    "num_rows = 5\n",
    "num_cols = 4\n",
    "num_images = num_rows * num_cols\n",
    "plt.figure(figsize=(2 * 2 * num_cols, 2 * num_rows))\n",
    "for i in range(num_images):\n",
    "    plt.subplot(num_rows, 2 * num_cols, 2 * i + 1)\n",
    "    plot_image(i, predictions, test_labels, test_images)\n",
    "    plt.subplot(num_rows, 2 * num_cols, 2 * i + 2)\n",
    "    plot_value_array(i, predictions, test_labels)\n",
    "plt.show()"
   ]
  },
  {
   "cell_type": "markdown",
   "metadata": {
    "colab_type": "text",
    "id": "llPca9lFJWzg"
   },
   "source": [
    "Теперь давайте обучим сверточную нейросеть. Для этого нам понадобится 2 новых слоя: `keras.layers.Conv2D` -- сам сверточный слой, и `keras.layers.MaxPool2D` -- слой пулинга. Здесь код уже написан за вас, просто запускайте все клетки последовательно."
   ]
  },
  {
   "cell_type": "code",
   "execution_count": null,
   "metadata": {
    "colab": {
     "base_uri": "https://localhost:8080/",
     "height": 789
    },
    "colab_type": "code",
    "id": "9QrTybvq-713",
    "outputId": "d160850d-d458-4122-e987-3548a27f5f10"
   },
   "outputs": [],
   "source": [
    "model = keras.Sequential([\n",
    "    keras.layers.Reshape((28, 28, 1)),\n",
    "    \n",
    "    keras.layers.Conv2D(32, kernel_size=3, padding='same', activation=tf.nn.relu),\n",
    "    keras.layers.Dropout(rate=0.3),\n",
    "    keras.layers.MaxPool2D(2),\n",
    "    \n",
    "    keras.layers.Conv2D(64, kernel_size=3, padding='same', activation=tf.nn.relu),\n",
    "    keras.layers.Dropout(rate=0.3),\n",
    "    keras.layers.MaxPool2D(2),\n",
    "    \n",
    "    keras.layers.Conv2D(128, kernel_size=7, padding='same', activation=tf.nn.relu),\n",
    "    keras.layers.Dropout(rate=0.3),\n",
    "    keras.layers.Flatten(),\n",
    "    keras.layers.Dense(10, activation=tf.nn.softmax)\n",
    "])\n",
    "\n",
    "model.compile(optimizer='adam',\n",
    "              loss='sparse_categorical_crossentropy',\n",
    "              metrics=['accuracy'])\n",
    "\n",
    "epochs = 20\n",
    "batch_size = 500\n",
    "model.fit(train_images, train_labels, \n",
    "          epochs=epochs, batch_size=batch_size,\n",
    "          validation_data=(test_images, test_labels))"
   ]
  },
  {
   "cell_type": "code",
   "execution_count": null,
   "metadata": {
    "colab": {
     "base_uri": "https://localhost:8080/",
     "height": 592
    },
    "colab_type": "code",
    "id": "-Agplho2-p_-",
    "outputId": "54acc827-9c45-48cc-e31c-cd8f0233597c"
   },
   "outputs": [],
   "source": [
    "predictions = model.predict(test_images)\n",
    "\n",
    "num_rows = 5\n",
    "num_cols = 4\n",
    "num_images = num_rows * num_cols\n",
    "plt.figure(figsize=(2 * 2 * num_cols, 2 * num_rows))\n",
    "for i in range(num_images):\n",
    "    plt.subplot(num_rows, 2 * num_cols, 2 * i + 1)\n",
    "    plot_image(i, predictions, test_labels, test_images)\n",
    "    plt.subplot(num_rows, 2 * num_cols, 2 * i + 2)\n",
    "    plot_value_array(i, predictions, test_labels)\n",
    "plt.show()"
   ]
  }
 ],
 "metadata": {
  "accelerator": "GPU",
  "colab": {
   "collapsed_sections": [],
   "name": "TutorialNN.ipynb",
   "provenance": [],
   "version": "0.3.2"
  },
  "kernelspec": {
   "display_name": "Python 3",
   "language": "python",
   "name": "python3"
  },
  "language_info": {
   "codemirror_mode": {
    "name": "ipython",
    "version": 3
   },
   "file_extension": ".py",
   "mimetype": "text/x-python",
   "name": "python",
   "nbconvert_exporter": "python",
   "pygments_lexer": "ipython3",
   "version": "3.6.4"
  }
 },
 "nbformat": 4,
 "nbformat_minor": 1
}
